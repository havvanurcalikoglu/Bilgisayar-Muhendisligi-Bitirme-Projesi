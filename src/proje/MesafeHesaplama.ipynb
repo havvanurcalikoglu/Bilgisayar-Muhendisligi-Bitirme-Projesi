{
 "cells": [
  {
   "cell_type": "code",
   "execution_count": 4,
   "metadata": {},
   "outputs": [],
   "source": [
    "import cv2\n",
    "import numpy as np"
   ]
  },
  {
   "cell_type": "code",
   "execution_count": 5,
   "metadata": {},
   "outputs": [],
   "source": [
    "cap = cv2.VideoCapture(0)\n",
    "\n",
    "_, prev = cap.read()\n",
    "prev = cv2.flip(prev, 1)\n",
    "_, new = cap.read()\n",
    "new = cv2.flip(new, 1)"
   ]
  },
  {
   "cell_type": "code",
   "execution_count": null,
   "metadata": {},
   "outputs": [],
   "source": [
    "while True:\n",
    "    diff = cv2.absdiff(prev, new)\n",
    "    diff = cv2.cvtColor(diff, cv2.COLOR_BGR2GRAY)\n",
    "    diff = cv2.blur(diff, (5, 5))\n",
    "    _, thresh = cv2.threshold(diff, 10, 255, cv2.THRESH_BINARY)\n",
    "    threh = cv2.dilate(thresh, None, 3)\n",
    "    thresh = cv2.erode(thresh, np.ones((4, 4)), 1)\n",
    "    contor, _ = cv2.findContours(thresh, cv2.RETR_TREE, cv2.CHAIN_APPROX_SIMPLE)\n",
    "    cv2.circle(prev, (20, 200), 5, (0, 0, 255), -1)\n",
    "    for contors in contor:\n",
    "        if cv2.contourArea(contors) > 30000:\n",
    "            (x, y, w, h) = cv2.boundingRect(contors)\n",
    "            (x1, y1), rad = cv2.minEnclosingCircle(contors)\n",
    "            x1 = int(x1)\n",
    "            y1 = int(y1)\n",
    "            cv2.line(prev, (20, 200), (x1, y1), (255, 0, 0), 4)\n",
    "            cv2.putText(prev, \"{}\".format(int(np.sqrt((x1 - 20) ** 2 + (y1 - 200) ** 2))), (100, 100),\n",
    "                        cv2.FONT_HERSHEY_SIMPLEX, 2, (0, 255, 0), 3)\n",
    "            cv2.rectangle(prev, (x, y), (x + w, y + h), (0, 255, 0), 2)\n",
    "            cv2.circle(prev, (x1, y1), 5, (0, 0, 255), -1)\n",
    "    cv2.imshow(\"mesafe\", prev)\n",
    "    prev = new\n",
    "    _, new = cap.read()\n",
    "    new = cv2.flip(new, 1)\n",
    "    if cv2.waitKey(1) == 27:\n",
    "        break\n",
    "cap.release()\n",
    "cv2.destroyAllWindows()"
   ]
  }
 ],
 "metadata": {
  "kernelspec": {
   "display_name": "Python 3",
   "language": "python",
   "name": "python3"
  },
  "language_info": {
   "codemirror_mode": {
    "name": "ipython",
    "version": 3
   },
   "file_extension": ".py",
   "mimetype": "text/x-python",
   "name": "python",
   "nbconvert_exporter": "python",
   "pygments_lexer": "ipython3",
   "version": "3.7.4"
  }
 },
 "nbformat": 4,
 "nbformat_minor": 2
}
