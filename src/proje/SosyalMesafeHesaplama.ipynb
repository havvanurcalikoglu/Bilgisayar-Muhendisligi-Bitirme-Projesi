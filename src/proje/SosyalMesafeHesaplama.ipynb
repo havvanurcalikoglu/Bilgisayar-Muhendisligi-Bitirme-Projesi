{
 "cells": [
  {
   "cell_type": "code",
   "execution_count": 6,
   "metadata": {},
   "outputs": [],
   "source": [
    "import cv2\n",
    "import imutils\n",
    "import numpy as np\n",
    "import argparse\n",
    "import math"
   ]
  },
  {
   "cell_type": "code",
   "execution_count": 7,
   "metadata": {},
   "outputs": [],
   "source": [
    "def center(x,w,y,h):\n",
    "    cx = x + (w / 2)\n",
    "    cy = y + (h / 2)\n",
    "    return(cx,cy)"
   ]
  },
  {
   "cell_type": "code",
   "execution_count": 8,
   "metadata": {},
   "outputs": [],
   "source": [
    "def detect(frame):\n",
    "    bounding_box_cordinates, weights = HOGCV.detectMultiScale(frame, winStride=(4, 4), padding=(8, 8), scale=1.03)\n",
    "    person = 1\n",
    "\n",
    "    toplam_genislik = 0\n",
    "    ortalama_genislik=0\n",
    "    insan_merkezleri = []\n",
    "\n",
    "    for x, y, w, h in bounding_box_cordinates:\n",
    "        cv2.rectangle(frame, (x, y), (x + w, y + h), (0, 255, 0), 2)\n",
    "\n",
    "        insan_merkezleri.append(center(x,w,y,h))\n",
    "        toplam_genislik = toplam_genislik+w\n",
    "\n",
    "        cv2.putText(frame, '', (x, y), cv2.FONT_HERSHEY_SIMPLEX, 0.5, (0, 0, 255), 1)\n",
    "        person += 1\n",
    "\n",
    "    insansayisi = person\n",
    "    ortalama_genislik=toplam_genislik/insansayisi\n",
    "    sosyal_mesafe_ihlal = []\n",
    "\n",
    "    for i, birinci in zip(range(len(insan_merkezleri)), insan_merkezleri):\n",
    "        for j, ikinci in zip(range(len(insan_merkezleri)), insan_merkezleri[i + 1:]):\n",
    "            if math.sqrt(((birinci[0] - ikinci[0]) ** 2) + ((birinci[1] - ikinci[1]) ** 2)) < ortalama_genislik:\n",
    "                sosyal_mesafe_ihlal.append((i, j + i + 1))\n",
    "\n",
    "\n",
    "\n",
    "    for (i, j) in sosyal_mesafe_ihlal:\n",
    "        (x, y, w, h) = bounding_box_cordinates[i]\n",
    "        cv2.rectangle(frame, (x, y), (x + w, y + h), (0, 0, 255), 2)\n",
    "        (x, y, w, h) = bounding_box_cordinates[j]\n",
    "        cv2.rectangle(frame, (x, y), (x + w, y + h), (0, 0, 255), 2)\n",
    "        cv2.putText(frame, 'Social Distance Violation', (x, y - 8), cv2.FONT_HERSHEY_DUPLEX, 0.4, (255, 0, 0), 1)\n",
    "        cv2.putText(frame, 'Warning:', (40, 100), cv2.FONT_HERSHEY_DUPLEX, 0.6, (0, 0, 255), 1)\n",
    "        cv2.putText(frame,  f'Social Distance Violation:{2*len(sosyal_mesafe_ihlal)}', (40, 130), cv2.FONT_HERSHEY_DUPLEX, 0.6, (0, 0, 255), 1)\n",
    "\n",
    "    cv2.putText(frame, 'Status : Detecting ', (40, 40), cv2.FONT_HERSHEY_DUPLEX, 0.6, (0, 0, 255), 1)\n",
    "    cv2.imshow('output', frame)\n",
    "\n",
    "\n",
    "    return frame"
   ]
  },
  {
   "cell_type": "code",
   "execution_count": 9,
   "metadata": {},
   "outputs": [],
   "source": [
    "def detectByPathVideo(path):\n",
    "    video = cv2.VideoCapture(path)\n",
    "    check, frame = video.read()\n",
    "    if check == False:\n",
    "        print('Video Not Found.')\n",
    "        return\n",
    "    print('Detecting people...')\n",
    "\n",
    "    while video.isOpened():\n",
    "        check, frame = video.read()\n",
    "\n",
    "        if check:\n",
    "            frame = imutils.resize(frame, width=min(800, frame.shape[1]))\n",
    "            frame = detect(frame)\n",
    "\n",
    "            key = cv2.waitKey(1)\n",
    "            if key == ord('q'):\n",
    "                break\n",
    "        else:\n",
    "            break\n",
    "    video.release()\n",
    "    cv2.destroyAllWindows()\n"
   ]
  },
  {
   "cell_type": "code",
   "execution_count": 10,
   "metadata": {},
   "outputs": [
    {
     "name": "stdout",
     "output_type": "stream",
     "text": [
      "Video Not Found.\n"
     ]
    }
   ],
   "source": [
    "path = r\"C:\\Users\\Administrator\\Desktop\\mesafeTest.mp4\"\n",
    "HOGCV = cv2.HOGDescriptor()\n",
    "HOGCV.setSVMDetector(cv2.HOGDescriptor_getDefaultPeopleDetector())\n",
    "\n",
    "detectByPathVideo(path)"
   ]
  },
  {
   "cell_type": "code",
   "execution_count": null,
   "metadata": {},
   "outputs": [],
   "source": []
  }
 ],
 "metadata": {
  "kernelspec": {
   "display_name": "Python 3",
   "language": "python",
   "name": "python3"
  },
  "language_info": {
   "codemirror_mode": {
    "name": "ipython",
    "version": 3
   },
   "file_extension": ".py",
   "mimetype": "text/x-python",
   "name": "python",
   "nbconvert_exporter": "python",
   "pygments_lexer": "ipython3",
   "version": "3.7.4"
  }
 },
 "nbformat": 4,
 "nbformat_minor": 2
}
