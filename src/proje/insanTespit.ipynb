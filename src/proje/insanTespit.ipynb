{
 "cells": [
  {
   "cell_type": "code",
   "execution_count": 15,
   "metadata": {},
   "outputs": [],
   "source": [
    "import numpy as np\n",
    "import cv2\n",
    "import datetime"
   ]
  },
  {
   "cell_type": "code",
   "execution_count": 16,
   "metadata": {},
   "outputs": [
    {
     "name": "stdout",
     "output_type": "stream",
     "text": [
      "{'image': 'C:\\\\Users\\\\Administrator\\\\Desktop\\\\cocuklar.jpg', 'prototxt': 'C:\\\\Users\\\\Administrator\\\\Desktop\\\\MobileNetSSD_deploy.prototxt.txt', 'model': 'C:\\\\Users\\\\Administrator\\\\Desktop\\\\MobileNetSSD_deploy.caffemodel', 'confidence': 0.2}\n",
      "[INFO] loading model...\n",
      "[INFO] computing object detections...\n",
      "[INFO] Insan: 99.61%\n",
      "[INFO] Insan: 99.61%\n",
      "[INFO] Insan: 99.61%\n",
      "[INFO] Insan: 99.61%\n",
      "/home/pi/pedestrian-detection/sonuc/C:\\Users\\Administrator\\Desktop\\cocuklar.jpg\n"
     ]
    }
   ],
   "source": [
    "args={'image': r\"C:\\Users\\Administrator\\Desktop\\cocuklar.jpg\",\n",
    "      'prototxt': r\"C:\\Users\\Administrator\\Desktop\\MobileNetSSD_deploy.prototxt.txt\",\n",
    "      'model': r\"C:\\Users\\Administrator\\Desktop\\MobileNetSSD_deploy.caffemodel\", 'confidence': 0.2}\n",
    "print(args)\n",
    "\n",
    "# Sınıf etiketleri listesini başlatmak için MobileNet SSD eğitildi.\n",
    "\n",
    "CLASSES = [\"Arka Plan\", \"Ucak\", \"Bisiklet\", \"Kus\", \"Tekne\",\n",
    "\"Sise\", \"Otobus\", \"Araba\", \"Kedi\", \"Sandalye\", \"Inek\", \"Yemek Masası\",\n",
    "\"Kopek\", \"At\", \"Motosiklet\", \"Insan\", \"Saksı Bitkisi\", \"Koyun\",\n",
    "\"Kanepe\", \"Tren\", \"Tv Monitor\"]\n",
    "COLORS = np.random.uniform(0, 255, size=(len(CLASSES), 3))\n",
    "\n",
    "\n",
    "print(\"[INFO] loading model...\")\n",
    "net = cv2.dnn.readNetFromCaffe(args[\"prototxt\"], args[\"model\"])\n",
    "\n",
    "#Giriş görüntüsünü yükleyin ve görüntü için bir giriş bloğu oluşturun \n",
    "\n",
    "image = cv2.imread(args[\"image\"])\n",
    "\n",
    "(h, w) = image.shape[:2]\n",
    "blob = cv2.dnn.blobFromImage(cv2.resize(image, (300, 300)), 0.007843, (300, 300), 127.5)\n",
    "       \n",
    "print(\"[INFO] computing object detections...\")\n",
    "net.setInput(blob)\n",
    "detections = net.forward()\n",
    "\n",
    "\n",
    "for i in np.arange(0, detections.shape[2]):\n",
    "                 \n",
    "        confidence = detections[0, 0, 0, 2]\n",
    "\n",
    "        if confidence > args[\"confidence\"]:\n",
    " \n",
    "                idx = int(detections[0, 0, i, 1])\n",
    "                if idx==15:\n",
    "                \n",
    "                        box = detections[0, 0, i, 3:7] * np.array([w, h, w, h])\n",
    "                        (startX, startY, endX, endY) = box.astype(\"int\")\n",
    "\n",
    "                        label = \"{}: {:.2f}%\".format(CLASSES[idx], confidence * 100)\n",
    "                        print(\"[INFO] {}\".format(label))\n",
    "                        cv2.rectangle(image, (startX, startY), (endX, endY),COLORS[idx], 2)\n",
    "                        y = startY - 15 if startY - 15 > 15 else startY + 15\n",
    "                        cv2.putText(image, label, (startX, y),cv2.FONT_HERSHEY_SIMPLEX, 0.5, COLORS[idx], 2)\n",
    "\n",
    "    \n",
    "yol=\"/home/pi/pedestrian-detection/sonuc/\"+str(fn)\n",
    "print(yol)\n",
    "cv2.imshow(\"Output\", image)\n",
    "cv2.imwrite(yol,image)\n",
    "cv2.waitKey(0)    \n",
    "\n",
    "\n",
    "cv2.destroyAllWindows()"
   ]
  },
  {
   "cell_type": "code",
   "execution_count": null,
   "metadata": {},
   "outputs": [],
   "source": []
  }
 ],
 "metadata": {
  "kernelspec": {
   "display_name": "Python 3",
   "language": "python",
   "name": "python3"
  },
  "language_info": {
   "codemirror_mode": {
    "name": "ipython",
    "version": 3
   },
   "file_extension": ".py",
   "mimetype": "text/x-python",
   "name": "python",
   "nbconvert_exporter": "python",
   "pygments_lexer": "ipython3",
   "version": "3.7.4"
  }
 },
 "nbformat": 4,
 "nbformat_minor": 2
}
